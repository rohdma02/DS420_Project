{
 "cells": [
  {
   "cell_type": "markdown",
   "id": "c1560d3c-53ec-4c05-994a-3817a073ce60",
   "metadata": {},
   "source": [
    "# Decision Tree Classification\n",
    "\n",
    "##### Author: Cody Pierce\n",
    "##### Part of Step 4: Train Algorithms"
   ]
  },
  {
   "cell_type": "code",
   "execution_count": 1,
   "id": "6e2c6902-d3d3-4723-bd01-99644063dbcf",
   "metadata": {},
   "outputs": [],
   "source": [
    "from sklearn.pipeline import Pipeline\n",
    "\n",
    "from sklearn.tree import DecisionTreeClassifier\n",
    "\n",
    "import math\n",
    "import numpy as np\n",
    "from sklearn.model_selection import GridSearchCV\n",
    "from sklearn.metrics import mean_squared_error\n",
    "\n",
    "from creditcard_preparation import create_creditcard_pipeline, prepare_creditcard_data"
   ]
  },
  {
   "cell_type": "code",
   "execution_count": 2,
   "id": "de805ba5-b049-4ca1-9e27-a52acb96a3f1",
   "metadata": {},
   "outputs": [],
   "source": [
    "X_train, X_dev, X_test, y_train, y_dev, y_test = prepare_creditcard_data((1/10,1/10))"
   ]
  },
  {
   "cell_type": "markdown",
   "id": "cc1ae3ad-94f5-4255-ad43-7d42023fb621",
   "metadata": {},
   "source": [
    "### Grid search for best hyperparameters"
   ]
  },
  {
   "cell_type": "code",
   "execution_count": 3,
   "id": "472ddf29-f733-45c9-b6eb-1b3ab3b82751",
   "metadata": {},
   "outputs": [],
   "source": [
    "# Focus on main hyperparameters of interest: Criterion and Max Depth\n",
    "\n",
    "def grid_search_hyper_params_mainfocus(X_train, y_train):\n",
    "    \n",
    "    param_grid = {'criterion':['gini','entropy','log_loss'],\n",
    "                   'max_depth':[2,4,6,8,10,None]}\n",
    "\n",
    "    print(\"Training ...\")\n",
    "    grid = GridSearchCV(DecisionTreeClassifier(), \n",
    "                        param_grid, \n",
    "                        return_train_score = True,\n",
    "                        refit = True, \n",
    "                        verbose = 3,\n",
    "                        n_jobs=1, \n",
    "                        cv = 3) \n",
    "\n",
    "    # Fit model for grid search\n",
    "    grid.fit(X_train, y_train) \n",
    "\n",
    "    # print best parameters after tuning \n",
    "    print(\"Grid searching is done!\")\n",
    "    print(\"The best score: \", grid.best_score_)\n",
    "    print(\"The best hyperparameters:\")\n",
    "    print(grid.best_params_)\n",
    "    return grid"
   ]
  },
  {
   "cell_type": "code",
   "execution_count": 4,
   "id": "d96d051a-acd3-4bb6-b3cd-d1ea2135378a",
   "metadata": {},
   "outputs": [
    {
     "name": "stdout",
     "output_type": "stream",
     "text": [
      "Training ...\n",
      "Fitting 3 folds for each of 18 candidates, totalling 54 fits\n",
      "[CV 1/3] END criterion=gini, max_depth=2;, score=(train=0.936, test=0.938) total time=   4.4s\n",
      "[CV 2/3] END criterion=gini, max_depth=2;, score=(train=0.938, test=0.936) total time=   4.4s\n",
      "[CV 3/3] END criterion=gini, max_depth=2;, score=(train=0.934, test=0.934) total time=   4.4s\n",
      "[CV 1/3] END criterion=gini, max_depth=4;, score=(train=0.953, test=0.953) total time=   8.7s\n",
      "[CV 2/3] END criterion=gini, max_depth=4;, score=(train=0.953, test=0.951) total time=   8.6s\n",
      "[CV 3/3] END criterion=gini, max_depth=4;, score=(train=0.950, test=0.950) total time=   8.7s\n",
      "[CV 1/3] END criterion=gini, max_depth=6;, score=(train=0.965, test=0.965) total time=  12.7s\n",
      "[CV 2/3] END criterion=gini, max_depth=6;, score=(train=0.965, test=0.964) total time=  12.5s\n",
      "[CV 3/3] END criterion=gini, max_depth=6;, score=(train=0.965, test=0.965) total time=  12.6s\n",
      "[CV 1/3] END criterion=gini, max_depth=8;, score=(train=0.975, test=0.973) total time=  16.5s\n",
      "[CV 2/3] END criterion=gini, max_depth=8;, score=(train=0.976, test=0.975) total time=  17.1s\n",
      "[CV 3/3] END criterion=gini, max_depth=8;, score=(train=0.976, test=0.975) total time=  16.5s\n",
      "[CV 1/3] END criterion=gini, max_depth=10;, score=(train=0.987, test=0.985) total time=  20.2s\n",
      "[CV 2/3] END criterion=gini, max_depth=10;, score=(train=0.986, test=0.984) total time=  20.2s\n",
      "[CV 3/3] END criterion=gini, max_depth=10;, score=(train=0.987, test=0.985) total time=  20.0s\n",
      "[CV 1/3] END criterion=gini, max_depth=None;, score=(train=1.000, test=0.997) total time=  39.4s\n",
      "[CV 2/3] END criterion=gini, max_depth=None;, score=(train=1.000, test=0.997) total time=  38.5s\n",
      "[CV 3/3] END criterion=gini, max_depth=None;, score=(train=1.000, test=0.997) total time=  37.5s\n",
      "[CV 1/3] END criterion=entropy, max_depth=2;, score=(train=0.929, test=0.931) total time=   5.2s\n",
      "[CV 2/3] END criterion=entropy, max_depth=2;, score=(train=0.931, test=0.930) total time=   5.2s\n",
      "[CV 3/3] END criterion=entropy, max_depth=2;, score=(train=0.930, test=0.929) total time=   5.1s\n",
      "[CV 1/3] END criterion=entropy, max_depth=4;, score=(train=0.948, test=0.949) total time=  10.1s\n",
      "[CV 2/3] END criterion=entropy, max_depth=4;, score=(train=0.950, test=0.949) total time=  10.1s\n",
      "[CV 3/3] END criterion=entropy, max_depth=4;, score=(train=0.948, test=0.948) total time=  10.0s\n",
      "[CV 1/3] END criterion=entropy, max_depth=6;, score=(train=0.958, test=0.958) total time=  14.9s\n",
      "[CV 2/3] END criterion=entropy, max_depth=6;, score=(train=0.958, test=0.957) total time=  15.0s\n",
      "[CV 3/3] END criterion=entropy, max_depth=6;, score=(train=0.959, test=0.959) total time=  14.8s\n",
      "[CV 1/3] END criterion=entropy, max_depth=8;, score=(train=0.971, test=0.971) total time=  18.7s\n",
      "[CV 2/3] END criterion=entropy, max_depth=8;, score=(train=0.972, test=0.971) total time=  18.4s\n",
      "[CV 3/3] END criterion=entropy, max_depth=8;, score=(train=0.970, test=0.970) total time=  18.6s\n",
      "[CV 1/3] END criterion=entropy, max_depth=10;, score=(train=0.984, test=0.982) total time=  21.4s\n",
      "[CV 2/3] END criterion=entropy, max_depth=10;, score=(train=0.984, test=0.983) total time=  21.6s\n",
      "[CV 3/3] END criterion=entropy, max_depth=10;, score=(train=0.983, test=0.982) total time=  20.4s\n",
      "[CV 1/3] END criterion=entropy, max_depth=None;, score=(train=1.000, test=0.998) total time=  23.5s\n",
      "[CV 2/3] END criterion=entropy, max_depth=None;, score=(train=1.000, test=0.998) total time=  22.7s\n",
      "[CV 3/3] END criterion=entropy, max_depth=None;, score=(train=1.000, test=0.998) total time=  22.6s\n",
      "[CV 1/3] END criterion=log_loss, max_depth=2;, score=(train=0.929, test=0.931) total time=   5.2s\n",
      "[CV 2/3] END criterion=log_loss, max_depth=2;, score=(train=0.931, test=0.930) total time=   5.2s\n",
      "[CV 3/3] END criterion=log_loss, max_depth=2;, score=(train=0.930, test=0.929) total time=   5.1s\n",
      "[CV 1/3] END criterion=log_loss, max_depth=4;, score=(train=0.948, test=0.949) total time=  10.0s\n",
      "[CV 2/3] END criterion=log_loss, max_depth=4;, score=(train=0.950, test=0.949) total time=  10.0s\n",
      "[CV 3/3] END criterion=log_loss, max_depth=4;, score=(train=0.948, test=0.948) total time=  10.1s\n",
      "[CV 1/3] END criterion=log_loss, max_depth=6;, score=(train=0.958, test=0.958) total time=  14.8s\n",
      "[CV 2/3] END criterion=log_loss, max_depth=6;, score=(train=0.958, test=0.957) total time=  14.8s\n",
      "[CV 3/3] END criterion=log_loss, max_depth=6;, score=(train=0.959, test=0.959) total time=  14.7s\n",
      "[CV 1/3] END criterion=log_loss, max_depth=8;, score=(train=0.971, test=0.971) total time=  18.5s\n",
      "[CV 2/3] END criterion=log_loss, max_depth=8;, score=(train=0.972, test=0.971) total time=  18.3s\n",
      "[CV 3/3] END criterion=log_loss, max_depth=8;, score=(train=0.970, test=0.970) total time=  18.5s\n",
      "[CV 1/3] END criterion=log_loss, max_depth=10;, score=(train=0.984, test=0.982) total time=  21.2s\n",
      "[CV 2/3] END criterion=log_loss, max_depth=10;, score=(train=0.984, test=0.983) total time=  21.5s\n",
      "[CV 3/3] END criterion=log_loss, max_depth=10;, score=(train=0.983, test=0.982) total time=  20.5s\n",
      "[CV 1/3] END criterion=log_loss, max_depth=None;, score=(train=1.000, test=0.998) total time=  23.6s\n",
      "[CV 2/3] END criterion=log_loss, max_depth=None;, score=(train=1.000, test=0.998) total time=  23.0s\n",
      "[CV 3/3] END criterion=log_loss, max_depth=None;, score=(train=1.000, test=0.998) total time=  22.7s\n",
      "Grid searching is done!\n",
      "The best score:  0.9978083292154789\n",
      "The best hyperparameters:\n",
      "{'criterion': 'log_loss', 'max_depth': None}\n"
     ]
    },
    {
     "data": {
      "text/html": [
       "<style>#sk-container-id-1 {color: black;}#sk-container-id-1 pre{padding: 0;}#sk-container-id-1 div.sk-toggleable {background-color: white;}#sk-container-id-1 label.sk-toggleable__label {cursor: pointer;display: block;width: 100%;margin-bottom: 0;padding: 0.3em;box-sizing: border-box;text-align: center;}#sk-container-id-1 label.sk-toggleable__label-arrow:before {content: \"▸\";float: left;margin-right: 0.25em;color: #696969;}#sk-container-id-1 label.sk-toggleable__label-arrow:hover:before {color: black;}#sk-container-id-1 div.sk-estimator:hover label.sk-toggleable__label-arrow:before {color: black;}#sk-container-id-1 div.sk-toggleable__content {max-height: 0;max-width: 0;overflow: hidden;text-align: left;background-color: #f0f8ff;}#sk-container-id-1 div.sk-toggleable__content pre {margin: 0.2em;color: black;border-radius: 0.25em;background-color: #f0f8ff;}#sk-container-id-1 input.sk-toggleable__control:checked~div.sk-toggleable__content {max-height: 200px;max-width: 100%;overflow: auto;}#sk-container-id-1 input.sk-toggleable__control:checked~label.sk-toggleable__label-arrow:before {content: \"▾\";}#sk-container-id-1 div.sk-estimator input.sk-toggleable__control:checked~label.sk-toggleable__label {background-color: #d4ebff;}#sk-container-id-1 div.sk-label input.sk-toggleable__control:checked~label.sk-toggleable__label {background-color: #d4ebff;}#sk-container-id-1 input.sk-hidden--visually {border: 0;clip: rect(1px 1px 1px 1px);clip: rect(1px, 1px, 1px, 1px);height: 1px;margin: -1px;overflow: hidden;padding: 0;position: absolute;width: 1px;}#sk-container-id-1 div.sk-estimator {font-family: monospace;background-color: #f0f8ff;border: 1px dotted black;border-radius: 0.25em;box-sizing: border-box;margin-bottom: 0.5em;}#sk-container-id-1 div.sk-estimator:hover {background-color: #d4ebff;}#sk-container-id-1 div.sk-parallel-item::after {content: \"\";width: 100%;border-bottom: 1px solid gray;flex-grow: 1;}#sk-container-id-1 div.sk-label:hover label.sk-toggleable__label {background-color: #d4ebff;}#sk-container-id-1 div.sk-serial::before {content: \"\";position: absolute;border-left: 1px solid gray;box-sizing: border-box;top: 0;bottom: 0;left: 50%;z-index: 0;}#sk-container-id-1 div.sk-serial {display: flex;flex-direction: column;align-items: center;background-color: white;padding-right: 0.2em;padding-left: 0.2em;position: relative;}#sk-container-id-1 div.sk-item {position: relative;z-index: 1;}#sk-container-id-1 div.sk-parallel {display: flex;align-items: stretch;justify-content: center;background-color: white;position: relative;}#sk-container-id-1 div.sk-item::before, #sk-container-id-1 div.sk-parallel-item::before {content: \"\";position: absolute;border-left: 1px solid gray;box-sizing: border-box;top: 0;bottom: 0;left: 50%;z-index: -1;}#sk-container-id-1 div.sk-parallel-item {display: flex;flex-direction: column;z-index: 1;position: relative;background-color: white;}#sk-container-id-1 div.sk-parallel-item:first-child::after {align-self: flex-end;width: 50%;}#sk-container-id-1 div.sk-parallel-item:last-child::after {align-self: flex-start;width: 50%;}#sk-container-id-1 div.sk-parallel-item:only-child::after {width: 0;}#sk-container-id-1 div.sk-dashed-wrapped {border: 1px dashed gray;margin: 0 0.4em 0.5em 0.4em;box-sizing: border-box;padding-bottom: 0.4em;background-color: white;}#sk-container-id-1 div.sk-label label {font-family: monospace;font-weight: bold;display: inline-block;line-height: 1.2em;}#sk-container-id-1 div.sk-label-container {text-align: center;}#sk-container-id-1 div.sk-container {/* jupyter's `normalize.less` sets `[hidden] { display: none; }` but bootstrap.min.css set `[hidden] { display: none !important; }` so we also need the `!important` here to be able to override the default hidden behavior on the sphinx rendered scikit-learn.org. See: https://github.com/scikit-learn/scikit-learn/issues/21755 */display: inline-block !important;position: relative;}#sk-container-id-1 div.sk-text-repr-fallback {display: none;}</style><div id=\"sk-container-id-1\" class=\"sk-top-container\"><div class=\"sk-text-repr-fallback\"><pre>GridSearchCV(cv=3, estimator=DecisionTreeClassifier(), n_jobs=1,\n",
       "             param_grid={&#x27;criterion&#x27;: [&#x27;gini&#x27;, &#x27;entropy&#x27;, &#x27;log_loss&#x27;],\n",
       "                         &#x27;max_depth&#x27;: [2, 4, 6, 8, 10, None]},\n",
       "             return_train_score=True, verbose=3)</pre><b>In a Jupyter environment, please rerun this cell to show the HTML representation or trust the notebook. <br />On GitHub, the HTML representation is unable to render, please try loading this page with nbviewer.org.</b></div><div class=\"sk-container\" hidden><div class=\"sk-item sk-dashed-wrapped\"><div class=\"sk-label-container\"><div class=\"sk-label sk-toggleable\"><input class=\"sk-toggleable__control sk-hidden--visually\" id=\"sk-estimator-id-1\" type=\"checkbox\" ><label for=\"sk-estimator-id-1\" class=\"sk-toggleable__label sk-toggleable__label-arrow\">GridSearchCV</label><div class=\"sk-toggleable__content\"><pre>GridSearchCV(cv=3, estimator=DecisionTreeClassifier(), n_jobs=1,\n",
       "             param_grid={&#x27;criterion&#x27;: [&#x27;gini&#x27;, &#x27;entropy&#x27;, &#x27;log_loss&#x27;],\n",
       "                         &#x27;max_depth&#x27;: [2, 4, 6, 8, 10, None]},\n",
       "             return_train_score=True, verbose=3)</pre></div></div></div><div class=\"sk-parallel\"><div class=\"sk-parallel-item\"><div class=\"sk-item\"><div class=\"sk-label-container\"><div class=\"sk-label sk-toggleable\"><input class=\"sk-toggleable__control sk-hidden--visually\" id=\"sk-estimator-id-2\" type=\"checkbox\" ><label for=\"sk-estimator-id-2\" class=\"sk-toggleable__label sk-toggleable__label-arrow\">estimator: DecisionTreeClassifier</label><div class=\"sk-toggleable__content\"><pre>DecisionTreeClassifier()</pre></div></div></div><div class=\"sk-serial\"><div class=\"sk-item\"><div class=\"sk-estimator sk-toggleable\"><input class=\"sk-toggleable__control sk-hidden--visually\" id=\"sk-estimator-id-3\" type=\"checkbox\" ><label for=\"sk-estimator-id-3\" class=\"sk-toggleable__label sk-toggleable__label-arrow\">DecisionTreeClassifier</label><div class=\"sk-toggleable__content\"><pre>DecisionTreeClassifier()</pre></div></div></div></div></div></div></div></div></div></div>"
      ],
      "text/plain": [
       "GridSearchCV(cv=3, estimator=DecisionTreeClassifier(), n_jobs=1,\n",
       "             param_grid={'criterion': ['gini', 'entropy', 'log_loss'],\n",
       "                         'max_depth': [2, 4, 6, 8, 10, None]},\n",
       "             return_train_score=True, verbose=3)"
      ]
     },
     "execution_count": 4,
     "metadata": {},
     "output_type": "execute_result"
    }
   ],
   "source": [
    "# Grid search for best parameters (focus on main hyperparameters of interest)\n",
    "\n",
    "grid_search_hyper_params_mainfocus(X_train, y_train)"
   ]
  },
  {
   "cell_type": "markdown",
   "id": "36187d77-9ba1-4285-adb0-e9cac5f9c756",
   "metadata": {},
   "source": [
    "#### Criterion:\n",
    "* Default value for criterion is Gini; Entropy seems to perform about the same but takes less time to train\n",
    "\n",
    "\n",
    "#### Max Depth:\n",
    "* Default value for max depth is None and is clearly the best option in terms of accuracy score\n",
    "* Increased runtime seems worthwhile\n"
   ]
  },
  {
   "cell_type": "code",
   "execution_count": 5,
   "id": "2048dd35-9de8-4a16-a1ec-4ffc03588097",
   "metadata": {},
   "outputs": [],
   "source": [
    "# Try other options with max depth at 1 to decrease runtime\n",
    "# Focus on those with default values that are not None (or 0)\n",
    "\n",
    "def grid_search_hyper_params_other(X_train, y_train):\n",
    "    \n",
    "    param_grid = {'criterion':['entropy'],\n",
    "                   'splitter':['best','random'],\n",
    "                   'min_samples_split':[2,3,5],\n",
    "                   'min_samples_leaf':[1,3,5],\n",
    "                   'min_weight_fraction_leaf':[0.0, 0.5],\n",
    "                   'max_depth':[1]}\n",
    "\n",
    "    print(\"Training ...\")\n",
    "    grid = GridSearchCV(DecisionTreeClassifier(), \n",
    "                        param_grid, \n",
    "                        return_train_score = True,\n",
    "                        refit = True, \n",
    "                        verbose = 3,\n",
    "                        n_jobs=1, \n",
    "                        cv = 3) \n",
    "\n",
    "   # Fit model for grid search\n",
    "    grid.fit(X_train, y_train) \n",
    "\n",
    "    # print best parameters after tuning \n",
    "    print(\"Grid searching is done!\")\n",
    "    print(\"The best score: \", grid.best_score_)\n",
    "    print(\"The best hyperparameters:\")\n",
    "    print(grid.best_params_)\n",
    "    return grid"
   ]
  },
  {
   "cell_type": "code",
   "execution_count": 6,
   "id": "5b3b0baa-62b5-4a13-af09-14164bb7bb3d",
   "metadata": {
    "tags": []
   },
   "outputs": [
    {
     "name": "stdout",
     "output_type": "stream",
     "text": [
      "Training ...\n",
      "Fitting 3 folds for each of 36 candidates, totalling 108 fits\n",
      "[CV 1/3] END criterion=entropy, max_depth=1, min_samples_leaf=1, min_samples_split=2, min_weight_fraction_leaf=0.0, splitter=best;, score=(train=0.929, test=0.931) total time=   2.7s\n",
      "[CV 2/3] END criterion=entropy, max_depth=1, min_samples_leaf=1, min_samples_split=2, min_weight_fraction_leaf=0.0, splitter=best;, score=(train=0.931, test=0.930) total time=   2.7s\n",
      "[CV 3/3] END criterion=entropy, max_depth=1, min_samples_leaf=1, min_samples_split=2, min_weight_fraction_leaf=0.0, splitter=best;, score=(train=0.930, test=0.929) total time=   2.7s\n",
      "[CV 1/3] END criterion=entropy, max_depth=1, min_samples_leaf=1, min_samples_split=2, min_weight_fraction_leaf=0.0, splitter=random;, score=(train=0.782, test=0.783) total time=   0.2s\n",
      "[CV 2/3] END criterion=entropy, max_depth=1, min_samples_leaf=1, min_samples_split=2, min_weight_fraction_leaf=0.0, splitter=random;, score=(train=0.818, test=0.816) total time=   0.2s\n",
      "[CV 3/3] END criterion=entropy, max_depth=1, min_samples_leaf=1, min_samples_split=2, min_weight_fraction_leaf=0.0, splitter=random;, score=(train=0.590, test=0.590) total time=   0.2s\n",
      "[CV 1/3] END criterion=entropy, max_depth=1, min_samples_leaf=1, min_samples_split=2, min_weight_fraction_leaf=0.5, splitter=best;, score=(train=0.500, test=0.500) total time=   2.1s\n",
      "[CV 2/3] END criterion=entropy, max_depth=1, min_samples_leaf=1, min_samples_split=2, min_weight_fraction_leaf=0.5, splitter=best;, score=(train=0.500, test=0.500) total time=   2.1s\n",
      "[CV 3/3] END criterion=entropy, max_depth=1, min_samples_leaf=1, min_samples_split=2, min_weight_fraction_leaf=0.5, splitter=best;, score=(train=0.923, test=0.923) total time=   2.1s\n",
      "[CV 1/3] END criterion=entropy, max_depth=1, min_samples_leaf=1, min_samples_split=2, min_weight_fraction_leaf=0.5, splitter=random;, score=(train=0.500, test=0.500) total time=   0.2s\n",
      "[CV 2/3] END criterion=entropy, max_depth=1, min_samples_leaf=1, min_samples_split=2, min_weight_fraction_leaf=0.5, splitter=random;, score=(train=0.500, test=0.500) total time=   0.2s\n",
      "[CV 3/3] END criterion=entropy, max_depth=1, min_samples_leaf=1, min_samples_split=2, min_weight_fraction_leaf=0.5, splitter=random;, score=(train=0.500, test=0.500) total time=   0.2s\n",
      "[CV 1/3] END criterion=entropy, max_depth=1, min_samples_leaf=1, min_samples_split=3, min_weight_fraction_leaf=0.0, splitter=best;, score=(train=0.929, test=0.931) total time=   2.7s\n",
      "[CV 2/3] END criterion=entropy, max_depth=1, min_samples_leaf=1, min_samples_split=3, min_weight_fraction_leaf=0.0, splitter=best;, score=(train=0.931, test=0.930) total time=   2.7s\n",
      "[CV 3/3] END criterion=entropy, max_depth=1, min_samples_leaf=1, min_samples_split=3, min_weight_fraction_leaf=0.0, splitter=best;, score=(train=0.930, test=0.929) total time=   2.7s\n",
      "[CV 1/3] END criterion=entropy, max_depth=1, min_samples_leaf=1, min_samples_split=3, min_weight_fraction_leaf=0.0, splitter=random;, score=(train=0.847, test=0.847) total time=   0.2s\n",
      "[CV 2/3] END criterion=entropy, max_depth=1, min_samples_leaf=1, min_samples_split=3, min_weight_fraction_leaf=0.0, splitter=random;, score=(train=0.878, test=0.878) total time=   0.2s\n",
      "[CV 3/3] END criterion=entropy, max_depth=1, min_samples_leaf=1, min_samples_split=3, min_weight_fraction_leaf=0.0, splitter=random;, score=(train=0.597, test=0.598) total time=   0.2s\n",
      "[CV 1/3] END criterion=entropy, max_depth=1, min_samples_leaf=1, min_samples_split=3, min_weight_fraction_leaf=0.5, splitter=best;, score=(train=0.500, test=0.500) total time=   2.1s\n",
      "[CV 2/3] END criterion=entropy, max_depth=1, min_samples_leaf=1, min_samples_split=3, min_weight_fraction_leaf=0.5, splitter=best;, score=(train=0.500, test=0.500) total time=   2.1s\n",
      "[CV 3/3] END criterion=entropy, max_depth=1, min_samples_leaf=1, min_samples_split=3, min_weight_fraction_leaf=0.5, splitter=best;, score=(train=0.923, test=0.923) total time=   2.1s\n",
      "[CV 1/3] END criterion=entropy, max_depth=1, min_samples_leaf=1, min_samples_split=3, min_weight_fraction_leaf=0.5, splitter=random;, score=(train=0.500, test=0.500) total time=   0.2s\n",
      "[CV 2/3] END criterion=entropy, max_depth=1, min_samples_leaf=1, min_samples_split=3, min_weight_fraction_leaf=0.5, splitter=random;, score=(train=0.500, test=0.500) total time=   0.2s\n",
      "[CV 3/3] END criterion=entropy, max_depth=1, min_samples_leaf=1, min_samples_split=3, min_weight_fraction_leaf=0.5, splitter=random;, score=(train=0.500, test=0.500) total time=   0.2s\n",
      "[CV 1/3] END criterion=entropy, max_depth=1, min_samples_leaf=1, min_samples_split=5, min_weight_fraction_leaf=0.0, splitter=best;, score=(train=0.929, test=0.931) total time=   2.7s\n",
      "[CV 2/3] END criterion=entropy, max_depth=1, min_samples_leaf=1, min_samples_split=5, min_weight_fraction_leaf=0.0, splitter=best;, score=(train=0.931, test=0.930) total time=   2.7s\n",
      "[CV 3/3] END criterion=entropy, max_depth=1, min_samples_leaf=1, min_samples_split=5, min_weight_fraction_leaf=0.0, splitter=best;, score=(train=0.930, test=0.929) total time=   2.7s\n",
      "[CV 1/3] END criterion=entropy, max_depth=1, min_samples_leaf=1, min_samples_split=5, min_weight_fraction_leaf=0.0, splitter=random;, score=(train=0.886, test=0.886) total time=   0.2s\n",
      "[CV 2/3] END criterion=entropy, max_depth=1, min_samples_leaf=1, min_samples_split=5, min_weight_fraction_leaf=0.0, splitter=random;, score=(train=0.739, test=0.740) total time=   0.2s\n",
      "[CV 3/3] END criterion=entropy, max_depth=1, min_samples_leaf=1, min_samples_split=5, min_weight_fraction_leaf=0.0, splitter=random;, score=(train=0.742, test=0.742) total time=   0.2s\n",
      "[CV 1/3] END criterion=entropy, max_depth=1, min_samples_leaf=1, min_samples_split=5, min_weight_fraction_leaf=0.5, splitter=best;, score=(train=0.500, test=0.500) total time=   2.1s\n",
      "[CV 2/3] END criterion=entropy, max_depth=1, min_samples_leaf=1, min_samples_split=5, min_weight_fraction_leaf=0.5, splitter=best;, score=(train=0.500, test=0.500) total time=   2.1s\n",
      "[CV 3/3] END criterion=entropy, max_depth=1, min_samples_leaf=1, min_samples_split=5, min_weight_fraction_leaf=0.5, splitter=best;, score=(train=0.923, test=0.923) total time=   2.1s\n",
      "[CV 1/3] END criterion=entropy, max_depth=1, min_samples_leaf=1, min_samples_split=5, min_weight_fraction_leaf=0.5, splitter=random;, score=(train=0.500, test=0.500) total time=   0.2s\n",
      "[CV 2/3] END criterion=entropy, max_depth=1, min_samples_leaf=1, min_samples_split=5, min_weight_fraction_leaf=0.5, splitter=random;, score=(train=0.500, test=0.500) total time=   0.2s\n",
      "[CV 3/3] END criterion=entropy, max_depth=1, min_samples_leaf=1, min_samples_split=5, min_weight_fraction_leaf=0.5, splitter=random;, score=(train=0.500, test=0.500) total time=   0.2s\n",
      "[CV 1/3] END criterion=entropy, max_depth=1, min_samples_leaf=3, min_samples_split=2, min_weight_fraction_leaf=0.0, splitter=best;, score=(train=0.929, test=0.931) total time=   2.7s\n",
      "[CV 2/3] END criterion=entropy, max_depth=1, min_samples_leaf=3, min_samples_split=2, min_weight_fraction_leaf=0.0, splitter=best;, score=(train=0.931, test=0.930) total time=   2.7s\n",
      "[CV 3/3] END criterion=entropy, max_depth=1, min_samples_leaf=3, min_samples_split=2, min_weight_fraction_leaf=0.0, splitter=best;, score=(train=0.930, test=0.929) total time=   2.7s\n",
      "[CV 1/3] END criterion=entropy, max_depth=1, min_samples_leaf=3, min_samples_split=2, min_weight_fraction_leaf=0.0, splitter=random;, score=(train=0.765, test=0.763) total time=   0.2s\n",
      "[CV 2/3] END criterion=entropy, max_depth=1, min_samples_leaf=3, min_samples_split=2, min_weight_fraction_leaf=0.0, splitter=random;, score=(train=0.884, test=0.883) total time=   0.2s\n",
      "[CV 3/3] END criterion=entropy, max_depth=1, min_samples_leaf=3, min_samples_split=2, min_weight_fraction_leaf=0.0, splitter=random;, score=(train=0.757, test=0.756) total time=   0.2s\n",
      "[CV 1/3] END criterion=entropy, max_depth=1, min_samples_leaf=3, min_samples_split=2, min_weight_fraction_leaf=0.5, splitter=best;, score=(train=0.500, test=0.500) total time=   2.1s\n",
      "[CV 2/3] END criterion=entropy, max_depth=1, min_samples_leaf=3, min_samples_split=2, min_weight_fraction_leaf=0.5, splitter=best;, score=(train=0.500, test=0.500) total time=   2.1s\n",
      "[CV 3/3] END criterion=entropy, max_depth=1, min_samples_leaf=3, min_samples_split=2, min_weight_fraction_leaf=0.5, splitter=best;, score=(train=0.923, test=0.923) total time=   2.1s\n",
      "[CV 1/3] END criterion=entropy, max_depth=1, min_samples_leaf=3, min_samples_split=2, min_weight_fraction_leaf=0.5, splitter=random;, score=(train=0.500, test=0.500) total time=   0.2s\n",
      "[CV 2/3] END criterion=entropy, max_depth=1, min_samples_leaf=3, min_samples_split=2, min_weight_fraction_leaf=0.5, splitter=random;, score=(train=0.500, test=0.500) total time=   0.2s\n",
      "[CV 3/3] END criterion=entropy, max_depth=1, min_samples_leaf=3, min_samples_split=2, min_weight_fraction_leaf=0.5, splitter=random;, score=(train=0.500, test=0.500) total time=   0.2s\n",
      "[CV 1/3] END criterion=entropy, max_depth=1, min_samples_leaf=3, min_samples_split=3, min_weight_fraction_leaf=0.0, splitter=best;, score=(train=0.929, test=0.931) total time=   2.7s\n",
      "[CV 2/3] END criterion=entropy, max_depth=1, min_samples_leaf=3, min_samples_split=3, min_weight_fraction_leaf=0.0, splitter=best;, score=(train=0.931, test=0.930) total time=   2.7s\n",
      "[CV 3/3] END criterion=entropy, max_depth=1, min_samples_leaf=3, min_samples_split=3, min_weight_fraction_leaf=0.0, splitter=best;, score=(train=0.930, test=0.929) total time=   2.7s\n",
      "[CV 1/3] END criterion=entropy, max_depth=1, min_samples_leaf=3, min_samples_split=3, min_weight_fraction_leaf=0.0, splitter=random;, score=(train=0.642, test=0.643) total time=   0.2s\n",
      "[CV 2/3] END criterion=entropy, max_depth=1, min_samples_leaf=3, min_samples_split=3, min_weight_fraction_leaf=0.0, splitter=random;, score=(train=0.896, test=0.895) total time=   0.2s\n",
      "[CV 3/3] END criterion=entropy, max_depth=1, min_samples_leaf=3, min_samples_split=3, min_weight_fraction_leaf=0.0, splitter=random;, score=(train=0.631, test=0.631) total time=   0.2s\n",
      "[CV 1/3] END criterion=entropy, max_depth=1, min_samples_leaf=3, min_samples_split=3, min_weight_fraction_leaf=0.5, splitter=best;, score=(train=0.500, test=0.500) total time=   2.1s\n",
      "[CV 2/3] END criterion=entropy, max_depth=1, min_samples_leaf=3, min_samples_split=3, min_weight_fraction_leaf=0.5, splitter=best;, score=(train=0.500, test=0.500) total time=   2.1s\n",
      "[CV 3/3] END criterion=entropy, max_depth=1, min_samples_leaf=3, min_samples_split=3, min_weight_fraction_leaf=0.5, splitter=best;, score=(train=0.923, test=0.923) total time=   2.1s\n",
      "[CV 1/3] END criterion=entropy, max_depth=1, min_samples_leaf=3, min_samples_split=3, min_weight_fraction_leaf=0.5, splitter=random;, score=(train=0.500, test=0.500) total time=   0.2s\n",
      "[CV 2/3] END criterion=entropy, max_depth=1, min_samples_leaf=3, min_samples_split=3, min_weight_fraction_leaf=0.5, splitter=random;, score=(train=0.500, test=0.500) total time=   0.2s\n",
      "[CV 3/3] END criterion=entropy, max_depth=1, min_samples_leaf=3, min_samples_split=3, min_weight_fraction_leaf=0.5, splitter=random;, score=(train=0.500, test=0.500) total time=   0.2s\n",
      "[CV 1/3] END criterion=entropy, max_depth=1, min_samples_leaf=3, min_samples_split=5, min_weight_fraction_leaf=0.0, splitter=best;, score=(train=0.929, test=0.931) total time=   2.7s\n",
      "[CV 2/3] END criterion=entropy, max_depth=1, min_samples_leaf=3, min_samples_split=5, min_weight_fraction_leaf=0.0, splitter=best;, score=(train=0.931, test=0.930) total time=   2.7s\n",
      "[CV 3/3] END criterion=entropy, max_depth=1, min_samples_leaf=3, min_samples_split=5, min_weight_fraction_leaf=0.0, splitter=best;, score=(train=0.930, test=0.929) total time=   2.7s\n",
      "[CV 1/3] END criterion=entropy, max_depth=1, min_samples_leaf=3, min_samples_split=5, min_weight_fraction_leaf=0.0, splitter=random;, score=(train=0.845, test=0.846) total time=   0.2s\n",
      "[CV 2/3] END criterion=entropy, max_depth=1, min_samples_leaf=3, min_samples_split=5, min_weight_fraction_leaf=0.0, splitter=random;, score=(train=0.892, test=0.892) total time=   0.2s\n",
      "[CV 3/3] END criterion=entropy, max_depth=1, min_samples_leaf=3, min_samples_split=5, min_weight_fraction_leaf=0.0, splitter=random;, score=(train=0.895, test=0.896) total time=   0.2s\n",
      "[CV 1/3] END criterion=entropy, max_depth=1, min_samples_leaf=3, min_samples_split=5, min_weight_fraction_leaf=0.5, splitter=best;, score=(train=0.500, test=0.500) total time=   2.1s\n",
      "[CV 2/3] END criterion=entropy, max_depth=1, min_samples_leaf=3, min_samples_split=5, min_weight_fraction_leaf=0.5, splitter=best;, score=(train=0.500, test=0.500) total time=   2.1s\n",
      "[CV 3/3] END criterion=entropy, max_depth=1, min_samples_leaf=3, min_samples_split=5, min_weight_fraction_leaf=0.5, splitter=best;, score=(train=0.923, test=0.923) total time=   2.1s\n",
      "[CV 1/3] END criterion=entropy, max_depth=1, min_samples_leaf=3, min_samples_split=5, min_weight_fraction_leaf=0.5, splitter=random;, score=(train=0.500, test=0.500) total time=   0.2s\n",
      "[CV 2/3] END criterion=entropy, max_depth=1, min_samples_leaf=3, min_samples_split=5, min_weight_fraction_leaf=0.5, splitter=random;, score=(train=0.500, test=0.500) total time=   0.2s\n",
      "[CV 3/3] END criterion=entropy, max_depth=1, min_samples_leaf=3, min_samples_split=5, min_weight_fraction_leaf=0.5, splitter=random;, score=(train=0.500, test=0.500) total time=   0.2s\n",
      "[CV 1/3] END criterion=entropy, max_depth=1, min_samples_leaf=5, min_samples_split=2, min_weight_fraction_leaf=0.0, splitter=best;, score=(train=0.929, test=0.931) total time=   2.7s\n",
      "[CV 2/3] END criterion=entropy, max_depth=1, min_samples_leaf=5, min_samples_split=2, min_weight_fraction_leaf=0.0, splitter=best;, score=(train=0.931, test=0.930) total time=   2.7s\n",
      "[CV 3/3] END criterion=entropy, max_depth=1, min_samples_leaf=5, min_samples_split=2, min_weight_fraction_leaf=0.0, splitter=best;, score=(train=0.930, test=0.929) total time=   2.7s\n",
      "[CV 1/3] END criterion=entropy, max_depth=1, min_samples_leaf=5, min_samples_split=2, min_weight_fraction_leaf=0.0, splitter=random;, score=(train=0.656, test=0.656) total time=   0.2s\n",
      "[CV 2/3] END criterion=entropy, max_depth=1, min_samples_leaf=5, min_samples_split=2, min_weight_fraction_leaf=0.0, splitter=random;, score=(train=0.776, test=0.775) total time=   0.2s\n",
      "[CV 3/3] END criterion=entropy, max_depth=1, min_samples_leaf=5, min_samples_split=2, min_weight_fraction_leaf=0.0, splitter=random;, score=(train=0.811, test=0.811) total time=   0.2s\n",
      "[CV 1/3] END criterion=entropy, max_depth=1, min_samples_leaf=5, min_samples_split=2, min_weight_fraction_leaf=0.5, splitter=best;, score=(train=0.500, test=0.500) total time=   2.1s\n",
      "[CV 2/3] END criterion=entropy, max_depth=1, min_samples_leaf=5, min_samples_split=2, min_weight_fraction_leaf=0.5, splitter=best;, score=(train=0.500, test=0.500) total time=   2.1s\n",
      "[CV 3/3] END criterion=entropy, max_depth=1, min_samples_leaf=5, min_samples_split=2, min_weight_fraction_leaf=0.5, splitter=best;, score=(train=0.923, test=0.923) total time=   2.1s\n",
      "[CV 1/3] END criterion=entropy, max_depth=1, min_samples_leaf=5, min_samples_split=2, min_weight_fraction_leaf=0.5, splitter=random;, score=(train=0.500, test=0.500) total time=   0.2s\n",
      "[CV 2/3] END criterion=entropy, max_depth=1, min_samples_leaf=5, min_samples_split=2, min_weight_fraction_leaf=0.5, splitter=random;, score=(train=0.500, test=0.500) total time=   0.2s\n",
      "[CV 3/3] END criterion=entropy, max_depth=1, min_samples_leaf=5, min_samples_split=2, min_weight_fraction_leaf=0.5, splitter=random;, score=(train=0.500, test=0.500) total time=   0.2s\n",
      "[CV 1/3] END criterion=entropy, max_depth=1, min_samples_leaf=5, min_samples_split=3, min_weight_fraction_leaf=0.0, splitter=best;, score=(train=0.929, test=0.931) total time=   2.7s\n",
      "[CV 2/3] END criterion=entropy, max_depth=1, min_samples_leaf=5, min_samples_split=3, min_weight_fraction_leaf=0.0, splitter=best;, score=(train=0.931, test=0.930) total time=   2.7s\n",
      "[CV 3/3] END criterion=entropy, max_depth=1, min_samples_leaf=5, min_samples_split=3, min_weight_fraction_leaf=0.0, splitter=best;, score=(train=0.930, test=0.929) total time=   2.7s\n",
      "[CV 1/3] END criterion=entropy, max_depth=1, min_samples_leaf=5, min_samples_split=3, min_weight_fraction_leaf=0.0, splitter=random;, score=(train=0.856, test=0.856) total time=   0.2s\n",
      "[CV 2/3] END criterion=entropy, max_depth=1, min_samples_leaf=5, min_samples_split=3, min_weight_fraction_leaf=0.0, splitter=random;, score=(train=0.769, test=0.769) total time=   0.2s\n",
      "[CV 3/3] END criterion=entropy, max_depth=1, min_samples_leaf=5, min_samples_split=3, min_weight_fraction_leaf=0.0, splitter=random;, score=(train=0.892, test=0.893) total time=   0.2s\n",
      "[CV 1/3] END criterion=entropy, max_depth=1, min_samples_leaf=5, min_samples_split=3, min_weight_fraction_leaf=0.5, splitter=best;, score=(train=0.500, test=0.500) total time=   2.1s\n",
      "[CV 2/3] END criterion=entropy, max_depth=1, min_samples_leaf=5, min_samples_split=3, min_weight_fraction_leaf=0.5, splitter=best;, score=(train=0.500, test=0.500) total time=   2.1s\n",
      "[CV 3/3] END criterion=entropy, max_depth=1, min_samples_leaf=5, min_samples_split=3, min_weight_fraction_leaf=0.5, splitter=best;, score=(train=0.923, test=0.923) total time=   2.1s\n",
      "[CV 1/3] END criterion=entropy, max_depth=1, min_samples_leaf=5, min_samples_split=3, min_weight_fraction_leaf=0.5, splitter=random;, score=(train=0.500, test=0.500) total time=   0.2s\n",
      "[CV 2/3] END criterion=entropy, max_depth=1, min_samples_leaf=5, min_samples_split=3, min_weight_fraction_leaf=0.5, splitter=random;, score=(train=0.500, test=0.500) total time=   0.2s\n",
      "[CV 3/3] END criterion=entropy, max_depth=1, min_samples_leaf=5, min_samples_split=3, min_weight_fraction_leaf=0.5, splitter=random;, score=(train=0.500, test=0.500) total time=   0.2s\n",
      "[CV 1/3] END criterion=entropy, max_depth=1, min_samples_leaf=5, min_samples_split=5, min_weight_fraction_leaf=0.0, splitter=best;, score=(train=0.929, test=0.931) total time=   2.7s\n",
      "[CV 2/3] END criterion=entropy, max_depth=1, min_samples_leaf=5, min_samples_split=5, min_weight_fraction_leaf=0.0, splitter=best;, score=(train=0.931, test=0.930) total time=   2.7s\n",
      "[CV 3/3] END criterion=entropy, max_depth=1, min_samples_leaf=5, min_samples_split=5, min_weight_fraction_leaf=0.0, splitter=best;, score=(train=0.930, test=0.929) total time=   2.7s\n",
      "[CV 1/3] END criterion=entropy, max_depth=1, min_samples_leaf=5, min_samples_split=5, min_weight_fraction_leaf=0.0, splitter=random;, score=(train=0.906, test=0.907) total time=   0.2s\n",
      "[CV 2/3] END criterion=entropy, max_depth=1, min_samples_leaf=5, min_samples_split=5, min_weight_fraction_leaf=0.0, splitter=random;, score=(train=0.717, test=0.718) total time=   0.2s\n",
      "[CV 3/3] END criterion=entropy, max_depth=1, min_samples_leaf=5, min_samples_split=5, min_weight_fraction_leaf=0.0, splitter=random;, score=(train=0.886, test=0.887) total time=   0.2s\n",
      "[CV 1/3] END criterion=entropy, max_depth=1, min_samples_leaf=5, min_samples_split=5, min_weight_fraction_leaf=0.5, splitter=best;, score=(train=0.500, test=0.500) total time=   2.1s\n",
      "[CV 2/3] END criterion=entropy, max_depth=1, min_samples_leaf=5, min_samples_split=5, min_weight_fraction_leaf=0.5, splitter=best;, score=(train=0.500, test=0.500) total time=   2.1s\n",
      "[CV 3/3] END criterion=entropy, max_depth=1, min_samples_leaf=5, min_samples_split=5, min_weight_fraction_leaf=0.5, splitter=best;, score=(train=0.923, test=0.923) total time=   2.1s\n",
      "[CV 1/3] END criterion=entropy, max_depth=1, min_samples_leaf=5, min_samples_split=5, min_weight_fraction_leaf=0.5, splitter=random;, score=(train=0.500, test=0.500) total time=   0.2s\n",
      "[CV 2/3] END criterion=entropy, max_depth=1, min_samples_leaf=5, min_samples_split=5, min_weight_fraction_leaf=0.5, splitter=random;, score=(train=0.500, test=0.500) total time=   0.2s\n",
      "[CV 3/3] END criterion=entropy, max_depth=1, min_samples_leaf=5, min_samples_split=5, min_weight_fraction_leaf=0.5, splitter=random;, score=(train=0.500, test=0.500) total time=   0.2s\n",
      "Grid searching is done!\n",
      "The best score:  0.9299104855201996\n",
      "The best hyperparameters:\n",
      "{'criterion': 'entropy', 'max_depth': 1, 'min_samples_leaf': 1, 'min_samples_split': 2, 'min_weight_fraction_leaf': 0.0, 'splitter': 'best'}\n"
     ]
    },
    {
     "data": {
      "text/html": [
       "<style>#sk-container-id-2 {color: black;}#sk-container-id-2 pre{padding: 0;}#sk-container-id-2 div.sk-toggleable {background-color: white;}#sk-container-id-2 label.sk-toggleable__label {cursor: pointer;display: block;width: 100%;margin-bottom: 0;padding: 0.3em;box-sizing: border-box;text-align: center;}#sk-container-id-2 label.sk-toggleable__label-arrow:before {content: \"▸\";float: left;margin-right: 0.25em;color: #696969;}#sk-container-id-2 label.sk-toggleable__label-arrow:hover:before {color: black;}#sk-container-id-2 div.sk-estimator:hover label.sk-toggleable__label-arrow:before {color: black;}#sk-container-id-2 div.sk-toggleable__content {max-height: 0;max-width: 0;overflow: hidden;text-align: left;background-color: #f0f8ff;}#sk-container-id-2 div.sk-toggleable__content pre {margin: 0.2em;color: black;border-radius: 0.25em;background-color: #f0f8ff;}#sk-container-id-2 input.sk-toggleable__control:checked~div.sk-toggleable__content {max-height: 200px;max-width: 100%;overflow: auto;}#sk-container-id-2 input.sk-toggleable__control:checked~label.sk-toggleable__label-arrow:before {content: \"▾\";}#sk-container-id-2 div.sk-estimator input.sk-toggleable__control:checked~label.sk-toggleable__label {background-color: #d4ebff;}#sk-container-id-2 div.sk-label input.sk-toggleable__control:checked~label.sk-toggleable__label {background-color: #d4ebff;}#sk-container-id-2 input.sk-hidden--visually {border: 0;clip: rect(1px 1px 1px 1px);clip: rect(1px, 1px, 1px, 1px);height: 1px;margin: -1px;overflow: hidden;padding: 0;position: absolute;width: 1px;}#sk-container-id-2 div.sk-estimator {font-family: monospace;background-color: #f0f8ff;border: 1px dotted black;border-radius: 0.25em;box-sizing: border-box;margin-bottom: 0.5em;}#sk-container-id-2 div.sk-estimator:hover {background-color: #d4ebff;}#sk-container-id-2 div.sk-parallel-item::after {content: \"\";width: 100%;border-bottom: 1px solid gray;flex-grow: 1;}#sk-container-id-2 div.sk-label:hover label.sk-toggleable__label {background-color: #d4ebff;}#sk-container-id-2 div.sk-serial::before {content: \"\";position: absolute;border-left: 1px solid gray;box-sizing: border-box;top: 0;bottom: 0;left: 50%;z-index: 0;}#sk-container-id-2 div.sk-serial {display: flex;flex-direction: column;align-items: center;background-color: white;padding-right: 0.2em;padding-left: 0.2em;position: relative;}#sk-container-id-2 div.sk-item {position: relative;z-index: 1;}#sk-container-id-2 div.sk-parallel {display: flex;align-items: stretch;justify-content: center;background-color: white;position: relative;}#sk-container-id-2 div.sk-item::before, #sk-container-id-2 div.sk-parallel-item::before {content: \"\";position: absolute;border-left: 1px solid gray;box-sizing: border-box;top: 0;bottom: 0;left: 50%;z-index: -1;}#sk-container-id-2 div.sk-parallel-item {display: flex;flex-direction: column;z-index: 1;position: relative;background-color: white;}#sk-container-id-2 div.sk-parallel-item:first-child::after {align-self: flex-end;width: 50%;}#sk-container-id-2 div.sk-parallel-item:last-child::after {align-self: flex-start;width: 50%;}#sk-container-id-2 div.sk-parallel-item:only-child::after {width: 0;}#sk-container-id-2 div.sk-dashed-wrapped {border: 1px dashed gray;margin: 0 0.4em 0.5em 0.4em;box-sizing: border-box;padding-bottom: 0.4em;background-color: white;}#sk-container-id-2 div.sk-label label {font-family: monospace;font-weight: bold;display: inline-block;line-height: 1.2em;}#sk-container-id-2 div.sk-label-container {text-align: center;}#sk-container-id-2 div.sk-container {/* jupyter's `normalize.less` sets `[hidden] { display: none; }` but bootstrap.min.css set `[hidden] { display: none !important; }` so we also need the `!important` here to be able to override the default hidden behavior on the sphinx rendered scikit-learn.org. See: https://github.com/scikit-learn/scikit-learn/issues/21755 */display: inline-block !important;position: relative;}#sk-container-id-2 div.sk-text-repr-fallback {display: none;}</style><div id=\"sk-container-id-2\" class=\"sk-top-container\"><div class=\"sk-text-repr-fallback\"><pre>GridSearchCV(cv=3, estimator=DecisionTreeClassifier(), n_jobs=1,\n",
       "             param_grid={&#x27;criterion&#x27;: [&#x27;entropy&#x27;], &#x27;max_depth&#x27;: [1],\n",
       "                         &#x27;min_samples_leaf&#x27;: [1, 3, 5],\n",
       "                         &#x27;min_samples_split&#x27;: [2, 3, 5],\n",
       "                         &#x27;min_weight_fraction_leaf&#x27;: [0.0, 0.5],\n",
       "                         &#x27;splitter&#x27;: [&#x27;best&#x27;, &#x27;random&#x27;]},\n",
       "             return_train_score=True, verbose=3)</pre><b>In a Jupyter environment, please rerun this cell to show the HTML representation or trust the notebook. <br />On GitHub, the HTML representation is unable to render, please try loading this page with nbviewer.org.</b></div><div class=\"sk-container\" hidden><div class=\"sk-item sk-dashed-wrapped\"><div class=\"sk-label-container\"><div class=\"sk-label sk-toggleable\"><input class=\"sk-toggleable__control sk-hidden--visually\" id=\"sk-estimator-id-4\" type=\"checkbox\" ><label for=\"sk-estimator-id-4\" class=\"sk-toggleable__label sk-toggleable__label-arrow\">GridSearchCV</label><div class=\"sk-toggleable__content\"><pre>GridSearchCV(cv=3, estimator=DecisionTreeClassifier(), n_jobs=1,\n",
       "             param_grid={&#x27;criterion&#x27;: [&#x27;entropy&#x27;], &#x27;max_depth&#x27;: [1],\n",
       "                         &#x27;min_samples_leaf&#x27;: [1, 3, 5],\n",
       "                         &#x27;min_samples_split&#x27;: [2, 3, 5],\n",
       "                         &#x27;min_weight_fraction_leaf&#x27;: [0.0, 0.5],\n",
       "                         &#x27;splitter&#x27;: [&#x27;best&#x27;, &#x27;random&#x27;]},\n",
       "             return_train_score=True, verbose=3)</pre></div></div></div><div class=\"sk-parallel\"><div class=\"sk-parallel-item\"><div class=\"sk-item\"><div class=\"sk-label-container\"><div class=\"sk-label sk-toggleable\"><input class=\"sk-toggleable__control sk-hidden--visually\" id=\"sk-estimator-id-5\" type=\"checkbox\" ><label for=\"sk-estimator-id-5\" class=\"sk-toggleable__label sk-toggleable__label-arrow\">estimator: DecisionTreeClassifier</label><div class=\"sk-toggleable__content\"><pre>DecisionTreeClassifier()</pre></div></div></div><div class=\"sk-serial\"><div class=\"sk-item\"><div class=\"sk-estimator sk-toggleable\"><input class=\"sk-toggleable__control sk-hidden--visually\" id=\"sk-estimator-id-6\" type=\"checkbox\" ><label for=\"sk-estimator-id-6\" class=\"sk-toggleable__label sk-toggleable__label-arrow\">DecisionTreeClassifier</label><div class=\"sk-toggleable__content\"><pre>DecisionTreeClassifier()</pre></div></div></div></div></div></div></div></div></div></div>"
      ],
      "text/plain": [
       "GridSearchCV(cv=3, estimator=DecisionTreeClassifier(), n_jobs=1,\n",
       "             param_grid={'criterion': ['entropy'], 'max_depth': [1],\n",
       "                         'min_samples_leaf': [1, 3, 5],\n",
       "                         'min_samples_split': [2, 3, 5],\n",
       "                         'min_weight_fraction_leaf': [0.0, 0.5],\n",
       "                         'splitter': ['best', 'random']},\n",
       "             return_train_score=True, verbose=3)"
      ]
     },
     "execution_count": 6,
     "metadata": {},
     "output_type": "execute_result"
    }
   ],
   "source": [
    "# Grid search for best parameters (other than criterion and max depth)\n",
    "\n",
    "grid_search_hyper_params_other(X_train, y_train)"
   ]
  },
  {
   "cell_type": "markdown",
   "id": "eb5da967-2e53-4e4a-aed4-2e1946ec9be4",
   "metadata": {},
   "source": [
    "* Overall: Default values seem to be the best choices for all parameters besides criterion (\"entropy\" seems to be faster while still maintaining performance)"
   ]
  },
  {
   "cell_type": "markdown",
   "id": "0b40ec58-3c10-4541-91fd-186c4d10989f",
   "metadata": {},
   "source": [
    "### Test model on test set using chosen hyperparameters"
   ]
  },
  {
   "cell_type": "code",
   "execution_count": 7,
   "id": "f6c17e1b-95d7-46bd-8cab-3410d6efc362",
   "metadata": {},
   "outputs": [],
   "source": [
    "# Create the pipeline\n",
    "pipeline = create_creditcard_pipeline()\n",
    "\n",
    "\n",
    "# Create algorithm with parameters found during grid search\n",
    "# Leave all parameters as default besides criterion\n",
    "DTC_model = DecisionTreeClassifier(criterion=\"entropy\")\n",
    "\n",
    "\n",
    "# Combine the pipeline and the algorithm\n",
    "pipeline_with_algo = Pipeline(steps=[\n",
    "    ('preprocessor', pipeline),\n",
    "    ('algo', DTC_model)\n",
    "])\n",
    "\n",
    "pipeline_with_algo.fit(X_train, y_train)\n",
    "y_test_pred = pipeline_with_algo.predict(X_test)"
   ]
  },
  {
   "cell_type": "code",
   "execution_count": 8,
   "id": "fa0dea15-ac4a-49ec-a446-8b062a1f8ab3",
   "metadata": {},
   "outputs": [
    {
     "name": "stdout",
     "output_type": "stream",
     "text": [
      "MSE:  0.0016179237817209786\n",
      "Error rate (%):  8.029857179227593\n"
     ]
    }
   ],
   "source": [
    "mse = mean_squared_error(y_test, y_test_pred, squared=True)\n",
    "print(\"MSE: \", mse) # prints\n",
    "print (\"Error rate (%): \", 100 * math.sqrt(mse) / np.mean(y_test))"
   ]
  },
  {
   "cell_type": "markdown",
   "id": "03e92e3d-33fd-4014-a4ca-c11a156912f4",
   "metadata": {},
   "source": [
    "# Accuracy: ~92%"
   ]
  },
  {
   "cell_type": "code",
   "execution_count": null,
   "id": "6a6fb0d0-8db5-4372-93b3-d6e2f7eb4e71",
   "metadata": {},
   "outputs": [],
   "source": []
  }
 ],
 "metadata": {
  "kernelspec": {
   "display_name": "DS420 (Python3.8)",
   "language": "python",
   "name": "ds420"
  },
  "language_info": {
   "codemirror_mode": {
    "name": "ipython",
    "version": 3
   },
   "file_extension": ".py",
   "mimetype": "text/x-python",
   "name": "python",
   "nbconvert_exporter": "python",
   "pygments_lexer": "ipython3",
   "version": "3.8.13"
  }
 },
 "nbformat": 4,
 "nbformat_minor": 5
}
