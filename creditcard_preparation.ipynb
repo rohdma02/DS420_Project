{
 "cells": [
  {
   "cell_type": "code",
   "execution_count": 1,
   "metadata": {},
   "outputs": [],
   "source": [
    "from pathlib import Path\n",
    "\n",
    "import pandas as pd\n",
    "\n",
    "from sklearn.pipeline import Pipeline\n",
    "from sklearn.preprocessing import StandardScaler, OneHotEncoder\n",
    "from sklearn.compose import ColumnTransformer\n",
    "from sklearn.impute import SimpleImputer"
   ]
  },
  {
   "cell_type": "code",
   "execution_count": 3,
   "metadata": {},
   "outputs": [],
   "source": [
    "# Step 2; based on housing_transformer_pipeline file\n",
    "\n",
    "def load_creditcard_data():\n",
    "\n",
    "    # filepath = Path(\"datasets/creditcard_2023.csv\") \n",
    "    # if not filepath.is_file():\n",
    "    #     Path(\"datasets\").mkdir(parents=True, exist_ok=True)\n",
    "    #     url = \"https://github.com/ageron/data/raw/main/housing.tgz\" \n",
    "    #     urllib.request.urlretrieve(url, filepath)\n",
    "    #     with tarfile.open(tarball_path) as housing_tarball:\n",
    "    #         housing_tarball.extractall(path=\"datasets\") \n",
    "\n",
    "    return pd.read_csv(\"creditcard_2023.csv\").drop(['id'], axis=1)\n",
    "\n",
    "\n",
    "\n",
    "def create_pipeline():\n",
    "\n",
    "    features = ['V1', 'V2', 'V3', 'V4', 'V5', 'V6', 'V7', 'V8', 'V9', 'V10',\n",
    "                'V11', 'V12', 'V13', 'V14', 'V15', 'V16', 'V17', 'V18', 'V19',\n",
    "                'V20', 'V21', 'V22', 'V23', 'V24', 'V25', 'V26', 'V27', 'V28',\n",
    "                'Amount']\n",
    "    \n",
    "    categorical_features = []\n",
    "\n",
    "\n",
    "    # Create a transformer pipeline\n",
    "    features_transformer = Pipeline(steps=[('imputer', SimpleImputer(\n",
    "        strategy='median')), ('scaler', StandardScaler())])\n",
    "\n",
    "    # Create a cat transformer pipeline\n",
    "    categorical_transformer = Pipeline(steps=[('imputer', SimpleImputer(\n",
    "        strategy='most_frequent')), ('onehot', OneHotEncoder(handle_unknown='ignore'))])\n",
    "\n",
    "    preprocessor = ColumnTransformer(transformers=[\n",
    "        ('num', features_transformer, features),\n",
    "        ('cat', categorical_transformer, categorical_features)])\n",
    "\n",
    "    # Create the final pipeline\n",
    "    # add more steps later as we work on the model\n",
    "    pipeline = Pipeline(steps=[('preprocessor', preprocessor)])\n",
    "\n",
    "    return pipeline"
   ]
  },
  {
   "cell_type": "code",
   "execution_count": 4,
   "metadata": {},
   "outputs": [],
   "source": [
    "def prepare_creditcard_data():\n",
    "\n",
    "    # Main\n",
    "\n",
    "    creditcard_data = load_creditcard_data()\n",
    "    \n",
    "\n",
    "    X = creditcard_data.drop(['Class'], axis=1)\n",
    "    y = creditcard_data['Class']\n",
    "\n",
    "    \n",
    "    # pipeline = create_pipeline()\n",
    "    \n",
    "    # pipeline.fit(X,y)\n",
    "\n",
    "    return X, y"
   ]
  }
 ],
 "metadata": {
  "kernelspec": {
   "display_name": ".venv",
   "language": "python",
   "name": "python3"
  },
  "language_info": {
   "codemirror_mode": {
    "name": "ipython",
    "version": 3
   },
   "file_extension": ".py",
   "mimetype": "text/x-python",
   "name": "python",
   "nbconvert_exporter": "python",
   "pygments_lexer": "ipython3",
   "version": "3.10.7"
  }
 },
 "nbformat": 4,
 "nbformat_minor": 2
}
